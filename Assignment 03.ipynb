{
 "cells": [
  {
   "cell_type": "markdown",
   "id": "5e66c6bd",
   "metadata": {},
   "source": [
    "# NumPy"
   ]
  },
  {
   "cell_type": "code",
   "execution_count": 3,
   "id": "a8a3658f",
   "metadata": {},
   "outputs": [],
   "source": [
    "import numpy as np"
   ]
  },
  {
   "cell_type": "markdown",
   "id": "b54cf968",
   "metadata": {},
   "source": [
    "1) Write a NumPy program to test whether none of the elements of a given array is zero."
   ]
  },
  {
   "cell_type": "code",
   "execution_count": 37,
   "id": "82e9f887",
   "metadata": {},
   "outputs": [
    {
     "name": "stdout",
     "output_type": "stream",
     "text": [
      "i =  1 This element not equal zero\n",
      "i =  2 This element not equal zero\n",
      "i =  0 This element equal zero\n",
      "i =  3 This element not equal zero\n",
      "i =  4 This element not equal zero\n"
     ]
    }
   ],
   "source": [
    "b = np.array([1,2,0,3,4])\n",
    "\n",
    "def checkzeros(a):\n",
    "    for i in a:\n",
    "        if i == 0:\n",
    "            print('i = ',i,'This element equal zero')\n",
    "\n",
    "        else:\n",
    "            print('i = ',i,\"This element not equal zero\")\n",
    "\n",
    "            \n",
    "checkzeros(b)"
   ]
  },
  {
   "cell_type": "markdown",
   "id": "c99b9c25",
   "metadata": {},
   "source": [
    "2) Write a NumPy program to test whether any of the elements of a given array is non-zero."
   ]
  },
  {
   "cell_type": "code",
   "execution_count": 4,
   "id": "a2ccc856",
   "metadata": {},
   "outputs": [
    {
     "name": "stdout",
     "output_type": "stream",
     "text": [
      "i =  1 This element equal one\n",
      "i =  2 This element not equal one\n",
      "i =  0 This element not equal one\n",
      "i =  3 This element not equal one\n",
      "i =  4 This element not equal one\n"
     ]
    }
   ],
   "source": [
    "b = np.array([1,2,0,3,4])\n",
    "\n",
    "def checkzeros(a):\n",
    "    for i in a:\n",
    "        if i == 1:\n",
    "            print('i = ',i,'This element equal one')\n",
    "\n",
    "        else:\n",
    "            print('i = ',i,\"This element not equal one\")\n",
    "\n",
    "            \n",
    "checkzeros(b)"
   ]
  },
  {
   "cell_type": "markdown",
   "id": "d510110b",
   "metadata": {},
   "source": [
    "3) Write a NumPy program to create an element-wise comparison (equal, equal within a tolerance) of two given"
   ]
  },
  {
   "cell_type": "code",
   "execution_count": 23,
   "id": "c820e3fc",
   "metadata": {},
   "outputs": [
    {
     "name": "stdout",
     "output_type": "stream",
     "text": [
      "equal:\n",
      "[ True False  True  True  True  True]\n",
      "equal within a tolerance:\n",
      "False\n"
     ]
    }
   ],
   "source": [
    "equalwzottol = np.array([4,23,2001,11,22,2000.0002])\n",
    "equlwiztol = np.array([4,23.0003,2001,11,22,2000.0002])\n",
    "\n",
    "#compare between two arrays if the qual to each other get TRUE if not get FALSE\n",
    "print(\"equal:\")\n",
    "print(np.equal(equalwzottol, equlwiztol))\n",
    "\n",
    "#absolute(arr1 - arr2) <= (array1 + array2 * absolute(arr2)) get TRUE\n",
    "print(\"equal within a tolerance:\")\n",
    "print(np.allclose(equalwzottol, equlwiztol))"
   ]
  },
  {
   "cell_type": "markdown",
   "id": "9efe60d9",
   "metadata": {},
   "source": [
    "4) Write a NumPy program to create an array of 10 zeros,10 ones, 10 fives."
   ]
  },
  {
   "cell_type": "code",
   "execution_count": 9,
   "id": "16b7445e",
   "metadata": {},
   "outputs": [
    {
     "name": "stdout",
     "output_type": "stream",
     "text": [
      "An array of 10 zeros: [0. 0. 0. 0. 0. 0. 0. 0. 0. 0.]\n",
      "\n",
      "An array of 10 ones: [1. 1. 1. 1. 1. 1. 1. 1. 1. 1.]\n",
      "\n",
      "An array of 10 fives: [5. 5. 5. 5. 5. 5. 5. 5. 5. 5.]\n"
     ]
    },
    {
     "data": {
      "text/plain": [
       "(array([0., 0., 0., 0., 0., 0., 0., 0., 0., 0.]),\n",
       " array([1., 1., 1., 1., 1., 1., 1., 1., 1., 1.]),\n",
       " array([5., 5., 5., 5., 5., 5., 5., 5., 5., 5.]))"
      ]
     },
     "execution_count": 9,
     "metadata": {},
     "output_type": "execute_result"
    }
   ],
   "source": [
    "arrzeros=np.zeros(10)\n",
    "print(\"An array of 10 zeros:\",arrzeros)\n",
    "print()\n",
    "arrones=np.ones(10)\n",
    "print(\"An array of 10 ones:\",arrones)\n",
    "print()\n",
    "arrfivz=np.ones(10)*5\n",
    "print(\"An array of 10 fives:\",arrfivz)\n",
    "\n",
    "arrs = arrzeros,arrones,arrfivz\n",
    "arrs"
   ]
  },
  {
   "cell_type": "markdown",
   "id": "d2c5e0e1",
   "metadata": {},
   "source": [
    "5) Write a NumPy program to create an array of the integers from 30 to70."
   ]
  },
  {
   "cell_type": "code",
   "execution_count": 107,
   "id": "e8a458f0",
   "metadata": {},
   "outputs": [
    {
     "name": "stdout",
     "output_type": "stream",
     "text": [
      "array00 = \n",
      " [[30 31 32 33 34 35 36 37 38 39 40 41 42 43 44 45 46 47 48 49 50 51 52 53\n",
      "  54 55 56 57 58 59 60 61 62 63 64 65 66 67 68 69 70]]\n",
      "\n",
      "array00 = \n",
      " [30 31 32 33 34 35 36 37 38 39 40 41 42 43 44 45 46 47 48 49 50 51 52 53\n",
      " 54 55 56 57 58 59 60 61 62 63 64 65 66 67 68 69 70]\n"
     ]
    }
   ],
   "source": [
    "arrayy = np.array([range(30,71)])\n",
    "print('array00 = \\n',arrayy)\n",
    "\n",
    "print()\n",
    "\n",
    "arrayyy = np.arange(30,71)\n",
    "print('array00 = \\n',arrayyy)"
   ]
  },
  {
   "cell_type": "markdown",
   "id": "fc107c03",
   "metadata": {},
   "source": [
    "6) Write a NumPy program to create a 3x3 identity matrix"
   ]
  },
  {
   "cell_type": "code",
   "execution_count": 54,
   "id": "aa9645ec",
   "metadata": {},
   "outputs": [
    {
     "name": "stdout",
     "output_type": "stream",
     "text": [
      "[[1. 0. 0.]\n",
      " [0. 1. 0.]\n",
      " [0. 0. 1.]]\n"
     ]
    }
   ],
   "source": [
    "mat = np.identity(3)\n",
    "print(mat)"
   ]
  },
  {
   "cell_type": "markdown",
   "id": "ee71f598",
   "metadata": {},
   "source": [
    "7) Write a NumPy program to generate a random number between 0 and 1"
   ]
  },
  {
   "cell_type": "code",
   "execution_count": 70,
   "id": "45df20d6",
   "metadata": {},
   "outputs": [
    {
     "data": {
      "text/plain": [
       "array([[0.25627968]])"
      ]
     },
     "execution_count": 70,
     "metadata": {},
     "output_type": "execute_result"
    }
   ],
   "source": [
    "randzero2one = np.random.rand(1,1)\n",
    "print(randzero2one)"
   ]
  },
  {
   "cell_type": "markdown",
   "id": "968073fb",
   "metadata": {},
   "source": [
    "8) Write a NumPy program to generate an array of 15 random numbers from a standard normal distribution"
   ]
  },
  {
   "cell_type": "code",
   "execution_count": 71,
   "id": "733be06a",
   "metadata": {},
   "outputs": [
    {
     "data": {
      "text/plain": [
       "array([-0.01575811, -0.70622156, -0.17523487,  0.41530617, -1.17183244,\n",
       "       -1.35135609,  1.10027569, -0.28602457,  0.32957299, -0.9346542 ,\n",
       "       -0.30592478, -0.06174393, -0.85357541,  1.26015853,  0.13179487])"
      ]
     },
     "execution_count": 71,
     "metadata": {},
     "output_type": "execute_result"
    }
   ],
   "source": [
    "randnosndistrib = np.random.normal(0,1,15)\n",
    "randnosndistrib"
   ]
  },
  {
   "cell_type": "markdown",
   "id": "4b4b109c",
   "metadata": {},
   "source": [
    "9) Write a NumPy program to create a vector with values ranging from 15 to 55 and print all values except the first and last."
   ]
  },
  {
   "cell_type": "code",
   "execution_count": 96,
   "id": "33951281",
   "metadata": {},
   "outputs": [
    {
     "data": {
      "text/plain": [
       "array([16, 17, 18, 19, 20, 21, 22, 23, 24, 25, 26, 27, 28, 29, 30, 31, 32,\n",
       "       33, 34, 35, 36, 37, 38, 39, 40, 41, 42, 43, 44, 45, 46, 47, 48, 49,\n",
       "       50, 51, 52, 53, 54])"
      ]
     },
     "execution_count": 96,
     "metadata": {},
     "output_type": "execute_result"
    }
   ],
   "source": [
    "vectt01 = np.arange(15,56)\n",
    "v01 = len(vectt01)-1\n",
    "vectt01[1:v]"
   ]
  },
  {
   "cell_type": "markdown",
   "id": "9cf7811b",
   "metadata": {},
   "source": [
    "10) Write a NumPy program to create a vector of length 5 filled with arbitrary integers from 0 to 10"
   ]
  },
  {
   "cell_type": "code",
   "execution_count": 134,
   "id": "d619b30b",
   "metadata": {},
   "outputs": [
    {
     "data": {
      "text/plain": [
       "array([2, 2, 4, 8, 7])"
      ]
     },
     "execution_count": 134,
     "metadata": {},
     "output_type": "execute_result"
    }
   ],
   "source": [
    "artbintg =np.arange(0,10,2)\n",
    "artbintg\n",
    "\n",
    "artbintg1 = np.random.randint(1,11,5)\n",
    "artbintg1"
   ]
  },
  {
   "cell_type": "markdown",
   "id": "d8c2613a",
   "metadata": {},
   "source": [
    "11) Write a NumPy program to create a 10x10 matrix, in which the elements on the borders will be equal to 1, and inside 0."
   ]
  },
  {
   "cell_type": "code",
   "execution_count": 144,
   "id": "6a0c7432",
   "metadata": {},
   "outputs": [
    {
     "data": {
      "text/plain": [
       "matrix([[1, 1, 1, 1, 1, 1, 1, 1, 1, 1],\n",
       "        [1, 0, 0, 0, 0, 0, 0, 0, 0, 1],\n",
       "        [1, 0, 0, 0, 0, 0, 0, 0, 0, 1],\n",
       "        [1, 0, 0, 0, 0, 0, 0, 0, 0, 1],\n",
       "        [1, 0, 0, 0, 0, 0, 0, 0, 0, 1],\n",
       "        [1, 0, 0, 0, 0, 0, 0, 0, 0, 1],\n",
       "        [1, 0, 0, 0, 0, 0, 0, 0, 0, 1],\n",
       "        [1, 0, 0, 0, 0, 0, 0, 0, 0, 1],\n",
       "        [1, 0, 0, 0, 0, 0, 0, 0, 0, 1],\n",
       "        [1, 1, 1, 1, 1, 1, 1, 1, 1, 1]])"
      ]
     },
     "execution_count": 144,
     "metadata": {},
     "output_type": "execute_result"
    }
   ],
   "source": [
    "from numpy import matlib\n",
    "np.matlib\n",
    "\n",
    "matrixx = matlib.ones((10,10),dtype = 'int')\n",
    "\n",
    "matrixx[1:-1, 1:-1] = 0\n",
    "\n",
    "matrixx"
   ]
  },
  {
   "cell_type": "markdown",
   "id": "5777582c",
   "metadata": {},
   "source": [
    "12) Write a NumPy program to create a 5x5 zero matrix with elements on the main diagonal equal to 1, 2, 3, 4, 5."
   ]
  },
  {
   "cell_type": "code",
   "execution_count": 163,
   "id": "6dee1417",
   "metadata": {},
   "outputs": [
    {
     "name": "stdout",
     "output_type": "stream",
     "text": [
      "[[1 0 0 0 0]\n",
      " [0 2 0 0 0]\n",
      " [0 0 3 0 0]\n",
      " [0 0 0 4 0]\n",
      " [0 0 0 0 5]]\n"
     ]
    }
   ],
   "source": [
    "# 1st method\n",
    "\n",
    "matrixz = matlib.zeros((5,5),dtype = 'int')\n",
    "matrixz[0,0] = 1\n",
    "matrixz[1,1] = 2\n",
    "matrixz[2,2] = 3\n",
    "matrixz[3,3] = 4\n",
    "matrixz[4,4] = 5\n",
    "\n",
    "matrixz\n",
    "\n",
    "\n",
    "# 2nd method\n",
    "\n",
    "matrixz01 = np.diag([1, 2, 3, 4, 5])\n",
    "\n",
    "print(matrixz01)"
   ]
  },
  {
   "cell_type": "markdown",
   "id": "d4eb179d",
   "metadata": {},
   "source": [
    "13) Write a NumPy program to create a 4x4 matrix in which 0 and 1 are staggered, with zeros on the main diagonal."
   ]
  },
  {
   "cell_type": "code",
   "execution_count": 166,
   "id": "9167b9b6",
   "metadata": {},
   "outputs": [
    {
     "data": {
      "text/plain": [
       "array([[0., 1., 0., 1.],\n",
       "       [1., 0., 1., 0.],\n",
       "       [0., 1., 0., 1.],\n",
       "       [1., 0., 1., 0.]])"
      ]
     },
     "execution_count": 166,
     "metadata": {},
     "output_type": "execute_result"
    }
   ],
   "source": [
    "matxx= np.zeros((4, 4))\n",
    "matxx[::2, 1::2] = 1\n",
    "matxx[1::2, ::2] = 1\n",
    "matxx"
   ]
  },
  {
   "cell_type": "markdown",
   "id": "62640584",
   "metadata": {},
   "source": [
    "16) Write a NumPy program to extract all numbers from a given array which are less and greater than a specified number."
   ]
  },
  {
   "cell_type": "code",
   "execution_count": 40,
   "id": "9c03fee2",
   "metadata": {},
   "outputs": [
    {
     "name": "stdout",
     "output_type": "stream",
     "text": [
      "numbers greater than a specified number (n) \n",
      " []\n",
      "--------------------------------------------\n",
      "numbers less than a specified number (n) \n",
      " [1 2 3]\n",
      "numbers greater than a specified number (n) \n",
      " [5 6]\n",
      "--------------------------------------------\n",
      "numbers less than a specified number (n) \n",
      " [4 5]\n",
      "numbers greater than a specified number (n) \n",
      " [7 8 9]\n",
      "--------------------------------------------\n",
      "numbers less than a specified number (n) \n",
      " []\n"
     ]
    }
   ],
   "source": [
    "arrayn = np.array([[1,2,3],[4,5,6],[7,8,9]])\n",
    "n = 5\n",
    "len(arrayn)\n",
    "def lessgreater(a):\n",
    "    for i in a:\n",
    "        print('numbers greater than a specified number (n) \\n',i[i>=n]) \n",
    "#         print(i[1] >= n) that print true or false if number in columns greater than or equal (n)\n",
    "        print('--------------------------------------------')\n",
    "        print('numbers less than a specified number (n) \\n',i[i<=n])\n",
    "\n",
    "        \n",
    "lessgreater(arrayn)\n",
    "# print(arrayn.all()) #to check if it can iterable or not, if it True so it is iterable"
   ]
  },
  {
   "cell_type": "markdown",
   "id": "16a9aea3",
   "metadata": {},
   "source": [
    "**SORRY FOR NO COMMENTS BUT I WILL TRY UPDATED IT WITH COMMENTS TO EXPLAIN ANY LINE CODE**\n",
    "\n",
    "\n",
    "**THANK YOU ❤️**"
   ]
  },
  {
   "cell_type": "code",
   "execution_count": null,
   "id": "d0b57fff",
   "metadata": {},
   "outputs": [],
   "source": []
  }
 ],
 "metadata": {
  "kernelspec": {
   "display_name": "Python 3 (ipykernel)",
   "language": "python",
   "name": "python3"
  },
  "language_info": {
   "codemirror_mode": {
    "name": "ipython",
    "version": 3
   },
   "file_extension": ".py",
   "mimetype": "text/x-python",
   "name": "python",
   "nbconvert_exporter": "python",
   "pygments_lexer": "ipython3",
   "version": "3.9.12"
  }
 },
 "nbformat": 4,
 "nbformat_minor": 5
}
